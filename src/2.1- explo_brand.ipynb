{
 "cells": [
  {
   "cell_type": "code",
   "execution_count": 1,
   "metadata": {},
   "outputs": [],
   "source": [
    "import os\n",
    "import pandas as pd\n",
    "import pyarrow.parquet as pq"
   ]
  },
  {
   "cell_type": "code",
   "execution_count": 3,
   "metadata": {},
   "outputs": [
    {
     "name": "stdout",
     "output_type": "stream",
     "text": [
      "🔍 Exploration de 2019-Dec.parquet...\n",
      "🔍 Exploration de 2019-Nov.parquet...\n",
      "🔍 Exploration de 2019-Oct.parquet...\n",
      "🔍 Exploration de 2020-Apr.parquet...\n",
      "🔍 Exploration de 2020-Feb.parquet...\n",
      "🔍 Exploration de 2020-Jan.parquet...\n",
      "🔍 Exploration de 2020-Mar.parquet...\n",
      "\n",
      "✅ Marques différentes trouvées :\n",
      "               brand\n",
      "0             a-case\n",
      "1            a-derma\n",
      "2            a-elita\n",
      "3             a-mega\n",
      "4          a-product\n",
      "5             a-toys\n",
      "6           aardwolf\n",
      "7          abaybooks\n",
      "8                abc\n",
      "9             abhika\n",
      "10               abk\n",
      "11             abris\n",
      "12  absolutechampion\n",
      "13   absolutenewyork\n",
      "14            abtoys\n",
      "15         abugarcia\n",
      "16                ac\n",
      "17          academie\n",
      "18             acana\n",
      "19             acase\n"
     ]
    }
   ],
   "source": [
    "# Dossier contenant les fichiers nettoyés\n",
    "cleaned_dir = \"../data/cleaned/\"\n",
    "\n",
    "# Liste des fichiers Parquet à analyser\n",
    "parquet_files = [f for f in os.listdir(cleaned_dir) if f.endswith(\".parquet\")]\n",
    "\n",
    "# Ensemble pour stocker les valeurs uniques (évite les doublons)\n",
    "unique_categories = set()\n",
    "\n",
    "# Exploration des fichiers\n",
    "for file in parquet_files:\n",
    "    parquet_path = os.path.join(cleaned_dir, file)\n",
    "    print(f\"🔍 Exploration de {file}...\")\n",
    "\n",
    "    # Lire le fichier par batch pour éviter les MemoryError\n",
    "    parquet_file = pq.ParquetFile(parquet_path)\n",
    "    batch_size = 500_000  \n",
    "\n",
    "    for batch in parquet_file.iter_batches(batch_size=batch_size):\n",
    "        chunk = batch.to_pandas()[[\"brand\"]]  # Charger uniquement la colonne utile\n",
    "        unique_categories.update(chunk[\"brand\"].dropna().unique())  # Ajouter au set\n",
    "\n",
    "# Conversion en DataFrame pour affichage et export éventuel\n",
    "df_categories = pd.DataFrame(sorted(unique_categories), columns=[\"brand\"])\n",
    "\n",
    "# Affichage des premières catégories uniques\n",
    "print(\"\\n✅ Marques différentes trouvées :\")\n",
    "print(df_categories.head(20))  # Afficher les 20 premières pour éviter un affichage massif"
   ]
  },
  {
   "cell_type": "code",
   "execution_count": 4,
   "metadata": {},
   "outputs": [
    {
     "name": "stdout",
     "output_type": "stream",
     "text": [
      "🎯 Exploration terminée ! Résultats sauvegardés dans 'data/exploration/brands.csv'.\n"
     ]
    }
   ],
   "source": [
    "# Sauvegarde en CSV ou Parquet\n",
    "df_categories.to_csv(\"../data/output/unique_brands.csv\", index=False)\n",
    "\n",
    "print(\"🎯 Exploration terminée ! Résultats sauvegardés dans 'data/exploration/brands.csv'.\")"
   ]
  }
 ],
 "metadata": {
  "kernelspec": {
   "display_name": ".venv",
   "language": "python",
   "name": "python3"
  },
  "language_info": {
   "codemirror_mode": {
    "name": "ipython",
    "version": 3
   },
   "file_extension": ".py",
   "mimetype": "text/x-python",
   "name": "python",
   "nbconvert_exporter": "python",
   "pygments_lexer": "ipython3",
   "version": "3.12.1"
  }
 },
 "nbformat": 4,
 "nbformat_minor": 2
}
