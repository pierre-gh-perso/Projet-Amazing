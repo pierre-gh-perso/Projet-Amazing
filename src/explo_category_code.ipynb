{
 "cells": [
  {
   "cell_type": "code",
   "execution_count": 2,
   "metadata": {},
   "outputs": [],
   "source": [
    "import os\n",
    "import pandas as pd\n",
    "import pyarrow.parquet as pq"
   ]
  },
  {
   "cell_type": "code",
   "execution_count": 5,
   "metadata": {},
   "outputs": [
    {
     "name": "stdout",
     "output_type": "stream",
     "text": [
      "🔍 Exploration de 2019-Dec.parquet...\n",
      "🔍 Exploration de 2019-Nov.parquet...\n",
      "🔍 Exploration de 2019-Oct.parquet...\n",
      "🔍 Exploration de 2020-Apr.parquet...\n",
      "🔍 Exploration de 2020-Feb.parquet...\n",
      "🔍 Exploration de 2020-Jan.parquet...\n",
      "🔍 Exploration de 2020-Mar.parquet...\n",
      "\n",
      "✅ Catégories uniques trouvées :\n",
      "                 category_code\n",
      "0              accessories.bag\n",
      "1         accessories.umbrella\n",
      "2           accessories.wallet\n",
      "3                 apparel.belt\n",
      "4              apparel.costume\n",
      "5                apparel.dress\n",
      "6                apparel.glove\n",
      "7                  apparel.hat\n",
      "8               apparel.jacket\n",
      "9                apparel.jeans\n",
      "10              apparel.jumper\n",
      "11             apparel.pajamas\n",
      "12               apparel.scarf\n",
      "13               apparel.shirt\n",
      "14               apparel.shoes\n",
      "15  apparel.shoes.ballet_shoes\n",
      "16   apparel.shoes.espadrilles\n",
      "17          apparel.shoes.keds\n",
      "18     apparel.shoes.moccasins\n",
      "19       apparel.shoes.sandals\n"
     ]
    }
   ],
   "source": [
    "# Dossier contenant les fichiers nettoyés\n",
    "cleaned_dir = \"../data/cleaned/\"\n",
    "\n",
    "# Liste des fichiers Parquet à analyser\n",
    "parquet_files = [f for f in os.listdir(cleaned_dir) if f.endswith(\".parquet\")]\n",
    "\n",
    "# Ensemble pour stocker les valeurs uniques (évite les doublons)\n",
    "unique_categories = set()\n",
    "\n",
    "# Exploration des fichiers\n",
    "for file in parquet_files:\n",
    "    parquet_path = os.path.join(cleaned_dir, file)\n",
    "    print(f\"🔍 Exploration de {file}...\")\n",
    "\n",
    "    # Lire le fichier par batch pour éviter les MemoryError\n",
    "    parquet_file = pq.ParquetFile(parquet_path)\n",
    "    batch_size = 500_000  \n",
    "\n",
    "    for batch in parquet_file.iter_batches(batch_size=batch_size):\n",
    "        chunk = batch.to_pandas()[[\"category_code\"]]  # Charger uniquement la colonne utile\n",
    "        unique_categories.update(chunk[\"category_code\"].dropna().unique())  # Ajouter au set\n",
    "\n",
    "# Conversion en DataFrame pour affichage et export éventuel\n",
    "df_categories = pd.DataFrame(sorted(unique_categories), columns=[\"category_code\"])\n",
    "\n",
    "# Affichage des premières catégories uniques\n",
    "print(\"\\n✅ Catégories uniques trouvées :\")\n",
    "print(df_categories.head(20))  # Afficher les 20 premières pour éviter un affichage massif"
   ]
  },
  {
   "cell_type": "code",
   "execution_count": 6,
   "metadata": {},
   "outputs": [
    {
     "name": "stdout",
     "output_type": "stream",
     "text": [
      "🎯 Exploration terminée ! Résultats sauvegardés dans 'data/exploration/unique_category_codes.csv'.\n"
     ]
    }
   ],
   "source": [
    "# Sauvegarde en CSV ou Parquet\n",
    "df_categories.to_csv(\"../data/output/unique_category_codes.csv\", index=False)\n",
    "\n",
    "print(\"🎯 Exploration terminée ! Résultats sauvegardés dans 'data/exploration/unique_category_codes.csv'.\")"
   ]
  }
 ],
 "metadata": {
  "kernelspec": {
   "display_name": ".venv",
   "language": "python",
   "name": "python3"
  },
  "language_info": {
   "codemirror_mode": {
    "name": "ipython",
    "version": 3
   },
   "file_extension": ".py",
   "mimetype": "text/x-python",
   "name": "python",
   "nbconvert_exporter": "python",
   "pygments_lexer": "ipython3",
   "version": "3.12.1"
  }
 },
 "nbformat": 4,
 "nbformat_minor": 2
}
