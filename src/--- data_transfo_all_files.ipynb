{
 "cells": [
  {
   "cell_type": "code",
   "execution_count": 3,
   "metadata": {},
   "outputs": [],
   "source": [
    "import pandas as pd\n",
    "import pyarrow.parquet as pq"
   ]
  },
  {
   "cell_type": "code",
   "execution_count": 4,
   "metadata": {},
   "outputs": [],
   "source": [
    "def clean_data(df):\n",
    "    \"\"\"Effectue le nettoyage et l'optimisation des données.\"\"\"\n",
    "    df = df.copy()  # Éviter SettingWithCopyWarning\n",
    "\n",
    "    # Suppression des doublons\n",
    "    df.drop_duplicates(inplace=True)\n",
    "\n",
    "    # Gestion des valeurs manquantes\n",
    "    for col in [\"category_code\", \"brand\", \"user_session\"]:\n",
    "        df[col] = df[col].fillna(\"unknown\")\n",
    "\n",
    "    # Optimisation des types de données\n",
    "    type_mapping = {\n",
    "        \"price\": \"float32\",\n",
    "        \"product_id\": \"int32\",\n",
    "        \"category_id\": \"int32\",\n",
    "        \"user_id\": \"int32\"\n",
    "    }\n",
    "\n",
    "    for col, dtype in type_mapping.items():\n",
    "        df[col] = df[col].astype(dtype)\n",
    "\n",
    "    return df\n",
    "\n",
    "def process_parquet_file(parquet_path, cleaned_path, batch_size=500_000):\n",
    "    \"\"\"Charge, nettoie et enregistre un fichier Parquet en mode batch pour éviter les problèmes de mémoire.\"\"\"\n",
    "    parquet_file = pq.ParquetFile(parquet_path)\n",
    "    chunk_list = []\n",
    "\n",
    "    for batch in parquet_file.iter_batches(batch_size=batch_size):\n",
    "        chunk = batch.to_pandas()\n",
    "        chunk_cleaned = clean_data(chunk)\n",
    "        chunk_list.append(chunk_cleaned)\n",
    "\n",
    "    df_cleaned = pd.concat(chunk_list, ignore_index=True)\n",
    "    df_cleaned.to_parquet(cleaned_path, index=False)"
   ]
  },
  {
   "cell_type": "code",
   "execution_count": 1,
   "metadata": {},
   "outputs": [
    {
     "name": "stdout",
     "output_type": "stream",
     "text": [
      "                event_time event_type  product_id  category_id  \\\n",
      "0  2019-12-01 00:00:00 UTC       view     1005105   1451229556   \n",
      "1  2019-12-01 00:00:00 UTC       view    22700068     16777546   \n",
      "2  2019-12-01 00:00:01 UTC       view     2402273    553648671   \n",
      "3  2019-12-01 00:00:02 UTC   purchase    26400248    -50331391   \n",
      "4  2019-12-01 00:00:02 UTC       view    20100164   1283457772   \n",
      "\n",
      "                   category_code    brand        price    user_id  \\\n",
      "0       construction.tools.light    apple  1302.479980  556695836   \n",
      "1                        unknown    force   102.959999  577702456   \n",
      "2   appliances.personal.massager    bosch   313.519989  539453785   \n",
      "3  computers.peripherals.printer  unknown   132.309998  535135317   \n",
      "4               apparel.trousers     nika   101.680000  517987650   \n",
      "\n",
      "                           user_session  \n",
      "0  ca5eefc5-11f9-450c-91ed-380285a0bc80  \n",
      "1  de33debe-c7bf-44e8-8a12-3bf8421f842a  \n",
      "2  5ee185a7-0689-4a33-923d-ba0130929a76  \n",
      "3  61792a26-672f-4e61-9832-7b63bb1714db  \n",
      "4  906c6ca8-ff5c-419a-bde9-967ba8e2233e  \n"
     ]
    }
   ],
   "source": [
    "import pandas as pd\n",
    "\n",
    "# Charger un fichier Parquet\n",
    "df = pd.read_parquet(\"../data/cleaned/2019-Dec.parquet\")\n",
    "\n",
    "# Afficher les 5 premières lignes\n",
    "print(df.head())\n"
   ]
  },
  {
   "cell_type": "code",
   "execution_count": 6,
   "metadata": {},
   "outputs": [],
   "source": [
    "process_parquet_file(\"../data/processed/2019-Dec.parquet\", \"../data/cleaned/2019-Dec.parquet\", batch_size=500_000)"
   ]
  }
 ],
 "metadata": {
  "kernelspec": {
   "display_name": ".venv",
   "language": "python",
   "name": "python3"
  },
  "language_info": {
   "codemirror_mode": {
    "name": "ipython",
    "version": 3
   },
   "file_extension": ".py",
   "mimetype": "text/x-python",
   "name": "python",
   "nbconvert_exporter": "python",
   "pygments_lexer": "ipython3",
   "version": "3.12.1"
  }
 },
 "nbformat": 4,
 "nbformat_minor": 2
}
