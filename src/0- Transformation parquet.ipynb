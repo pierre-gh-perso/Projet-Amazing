{
 "cells": [
  {
   "cell_type": "code",
   "execution_count": 1,
   "metadata": {},
   "outputs": [],
   "source": [
    "import pandas as pd\n",
    "import os\n",
    "import pyarrow.parquet as pq"
   ]
  },
  {
   "cell_type": "code",
   "execution_count": 4,
   "metadata": {},
   "outputs": [
    {
     "name": "stdout",
     "output_type": "stream",
     "text": [
      "Conversion de 2019-Dec.csv en Parquet...\n",
      "✅ 2019-Dec.csv converti avec succès en ..\\data\\processed\\2019-Dec.parquet\n",
      "Conversion de 2019-Nov.csv en Parquet...\n",
      "✅ 2019-Nov.csv converti avec succès en ..\\data\\processed\\2019-Nov.parquet\n",
      "Conversion de 2019-Oct.csv en Parquet...\n",
      "✅ 2019-Oct.csv converti avec succès en ..\\data\\processed\\2019-Oct.parquet\n",
      "Conversion de 2020-Apr.csv en Parquet...\n",
      "✅ 2020-Apr.csv converti avec succès en ..\\data\\processed\\2020-Apr.parquet\n",
      "Conversion de 2020-Feb.csv en Parquet...\n",
      "✅ 2020-Feb.csv converti avec succès en ..\\data\\processed\\2020-Feb.parquet\n",
      "Conversion de 2020-Jan.csv en Parquet...\n",
      "✅ 2020-Jan.csv converti avec succès en ..\\data\\processed\\2020-Jan.parquet\n",
      "Conversion de 2020-Mar.csv en Parquet...\n",
      "✅ 2020-Mar.csv converti avec succès en ..\\data\\processed\\2020-Mar.parquet\n",
      "🎯 Tous les fichiers ont été convertis en Parquet !\n"
     ]
    }
   ],
   "source": [
    "# Dossiers source et destination\n",
    "data_dir = os.path.join(\"..\",\"data\", \"raw\")  # Dossier contenant les fichiers CSV\n",
    "dest_dir = os.path.join(\"..\",\"data\", \"processed\")  # Dossier où stocker les fichiers Parquet\n",
    "\n",
    "# Liste des fichiers CSV à convertir\n",
    "csv_files = [f for f in os.listdir(data_dir) if f.endswith(\".csv\")]\n",
    "\n",
    "# Conversion des fichiers CSV en Parquet\n",
    "for file in csv_files:\n",
    "    csv_path = os.path.join(data_dir, file)\n",
    "    parquet_path = os.path.join(dest_dir, file.replace(\".csv\", \".parquet\"))\n",
    "    \n",
    "    print(f\"Conversion de {file} en Parquet...\")\n",
    "    \n",
    "    # Lecture et conversion par morceaux\n",
    "    chunksize = 1_000_000  # Lecture en chunks pour éviter les problèmes de mémoire\n",
    "    chunk_list = []\n",
    "    \n",
    "    for chunk in pd.read_csv(csv_path, chunksize=chunksize, low_memory=False):\n",
    "        chunk_list.append(chunk)\n",
    "    \n",
    "    df = pd.concat(chunk_list)\n",
    "    df.to_parquet(parquet_path, index=False)\n",
    "    \n",
    "    print(f\"✅ {file} converti avec succès en {parquet_path}\")\n",
    "\n",
    "print(\"🎯 Tous les fichiers ont été convertis en Parquet !\")\n"
   ]
  }
 ],
 "metadata": {
  "kernelspec": {
   "display_name": ".venv",
   "language": "python",
   "name": "python3"
  },
  "language_info": {
   "codemirror_mode": {
    "name": "ipython",
    "version": 3
   },
   "file_extension": ".py",
   "mimetype": "text/x-python",
   "name": "python",
   "nbconvert_exporter": "python",
   "pygments_lexer": "ipython3",
   "version": "3.12.1"
  }
 },
 "nbformat": 4,
 "nbformat_minor": 2
}
